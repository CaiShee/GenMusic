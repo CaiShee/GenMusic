{
 "cells": [
  {
   "cell_type": "markdown",
   "metadata": {},
   "source": [
    "# Train the Grader"
   ]
  },
  {
   "cell_type": "code",
   "execution_count": 1,
   "metadata": {},
   "outputs": [],
   "source": [
    "import torch.utils.data as Data\n",
    "import torch\n",
    "\n",
    "data = torch.load(\n",
    "    \"Data/Beat_dataset/Beat_tensor_dataset/beat_no_head_rsz_75.pt\")\n",
    "x = data['x']\n",
    "y = data['y']\n",
    "batch_size = 64\n",
    "dataset = Data.TensorDataset(x, y)\n",
    "train_iter = Data.DataLoader(dataset, batch_size, shuffle=True, num_workers=0)"
   ]
  },
  {
   "cell_type": "code",
   "execution_count": 2,
   "metadata": {},
   "outputs": [],
   "source": [
    "from GenMusic.models.mlp import MLP\n",
    "\n",
    "mlp = MLP(75, [150, 50, 10], 2)"
   ]
  },
  {
   "cell_type": "code",
   "execution_count": 3,
   "metadata": {},
   "outputs": [],
   "source": [
    "from torch import nn\n",
    "\n",
    "lr = 1e-3\n",
    "epoch = 1000\n",
    "criterion = nn.MSELoss()\n",
    "optimizer = torch.optim.Adam(mlp.parameters(), lr=lr)\n",
    "device = torch.device(\"cuda\")\n",
    "torch.cuda.empty_cache()  # 释放显存"
   ]
  },
  {
   "cell_type": "code",
   "execution_count": null,
   "metadata": {},
   "outputs": [],
   "source": [
    "from GenMusic.models import train\n",
    "\n",
    "model = train(train_iter, mlp, criterion,\n",
    "              optimizer, epoch, device, autoPrint=0)"
   ]
  },
  {
   "cell_type": "markdown",
   "metadata": {},
   "source": [
    "# Generate beat"
   ]
  },
  {
   "cell_type": "code",
   "execution_count": 1,
   "metadata": {},
   "outputs": [],
   "source": [
    "import torch\n",
    "from GenMusic.bin.rewarders import nngrader_rewarder, get_nngrader_rewarder\n",
    "from GenMusic import ga_generator\n",
    "\n",
    "rwd = get_nngrader_rewarder(\"runs/1708853660.6353629/best.pt\")\n",
    "rwd.set_tgt(torch.tensor([0.5, 0.5]))\n",
    "ga = ga_generator(rwd)"
   ]
  },
  {
   "cell_type": "code",
   "execution_count": 2,
   "metadata": {},
   "outputs": [],
   "source": [
    "ga.set_problem_params(maxormins=[1]*1, Dim=75, varTypes=[0]\n",
    "                      * 75, lb=[0.3]*75, ub=[0.9]*75, lbin=[1]*75, ubin=[1]*75)\n",
    "ga.set_problem_aimFunc(ga.aimFun_1)\n",
    "ga.set_population_params()\n",
    "ga.set_algorithm_params()"
   ]
  },
  {
   "cell_type": "code",
   "execution_count": null,
   "metadata": {},
   "outputs": [],
   "source": [
    "ga.generate_ori()"
   ]
  },
  {
   "cell_type": "code",
   "execution_count": null,
   "metadata": {},
   "outputs": [],
   "source": [
    "print(ga.best_tensor)"
   ]
  }
 ],
 "metadata": {
  "kernelspec": {
   "display_name": "space_1",
   "language": "python",
   "name": "python3"
  },
  "language_info": {
   "codemirror_mode": {
    "name": "ipython",
    "version": 3
   },
   "file_extension": ".py",
   "mimetype": "text/x-python",
   "name": "python",
   "nbconvert_exporter": "python",
   "pygments_lexer": "ipython3",
   "version": "3.8.15"
  }
 },
 "nbformat": 4,
 "nbformat_minor": 2
}
