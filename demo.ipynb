{
 "cells": [
  {
   "cell_type": "markdown",
   "metadata": {},
   "source": [
    "# Train the Grader"
   ]
  },
  {
   "cell_type": "code",
   "execution_count": 1,
   "metadata": {},
   "outputs": [],
   "source": [
    "import torch.utils.data as Data\n",
    "import torch\n",
    "\n",
    "data = torch.load(\"Data/Beat_dataset/Beat_tensor_dataset/beat_no_head_rsz_75.pt\")\n",
    "x=data['x']\n",
    "y=data['y']\n",
    "batch_size = 64\n",
    "dataset = Data.TensorDataset(x, y)\n",
    "train_iter = Data.DataLoader(dataset, batch_size, shuffle=True, num_workers=0)"
   ]
  },
  {
   "cell_type": "code",
   "execution_count": 2,
   "metadata": {},
   "outputs": [],
   "source": [
    "from GenMusic.models.mlp import MLP\n",
    "\n",
    "mlp =MLP(75,[150,50,10],2)"
   ]
  },
  {
   "cell_type": "code",
   "execution_count": 3,
   "metadata": {},
   "outputs": [],
   "source": [
    "from torch import nn\n",
    "\n",
    "lr = 1e-3\n",
    "epoch = 1000\n",
    "criterion = nn.MSELoss()\n",
    "optimizer = torch.optim.Adam(mlp.parameters(), lr=lr)\n",
    "device = torch.device(\"cuda\")\n",
    "torch.cuda.empty_cache()  # 释放显存"
   ]
  },
  {
   "cell_type": "code",
   "execution_count": 4,
   "metadata": {},
   "outputs": [],
   "source": [
    "from GenMusic.models import train\n",
    "\n",
    "model =train(train_iter, mlp, criterion, optimizer, epoch, device,autoPrint=0)"
   ]
  }
 ],
 "metadata": {
  "kernelspec": {
   "display_name": "space_1",
   "language": "python",
   "name": "python3"
  },
  "language_info": {
   "codemirror_mode": {
    "name": "ipython",
    "version": 3
   },
   "file_extension": ".py",
   "mimetype": "text/x-python",
   "name": "python",
   "nbconvert_exporter": "python",
   "pygments_lexer": "ipython3",
   "version": "3.8.15"
  }
 },
 "nbformat": 4,
 "nbformat_minor": 2
}
