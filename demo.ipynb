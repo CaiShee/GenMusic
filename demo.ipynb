{
 "cells": [
  {
   "cell_type": "markdown",
   "metadata": {},
   "source": [
    "# Train the Grader"
   ]
  },
  {
   "cell_type": "code",
   "execution_count": 1,
   "metadata": {},
   "outputs": [],
   "source": [
    "import torch.utils.data as Data\n",
    "import torch\n",
    "\n",
    "data = torch.load(\n",
    "    \"Data/Beat_dataset/Beat_tensor_dataset/beat_no_head_rsz_75.pt\")\n",
    "x = data['x']\n",
    "y = data['y']\n",
    "batch_size = 64\n",
    "dataset = Data.TensorDataset(x, y)\n",
    "train_iter = Data.DataLoader(dataset, batch_size, shuffle=True, num_workers=0)"
   ]
  },
  {
   "cell_type": "code",
   "execution_count": 2,
   "metadata": {},
   "outputs": [],
   "source": [
    "from GenMusic.models.mlp import MLP\n",
    "\n",
    "mlp = MLP(75, [150, 50, 10], 2)"
   ]
  },
  {
   "cell_type": "code",
   "execution_count": 3,
   "metadata": {},
   "outputs": [],
   "source": [
    "from torch import nn\n",
    "\n",
    "lr = 1e-3\n",
    "epoch = 1000\n",
    "criterion = nn.MSELoss()\n",
    "optimizer = torch.optim.Adam(mlp.parameters(), lr=lr)\n",
    "device = torch.device(\"cuda\")\n",
    "torch.cuda.empty_cache()  # 释放显存"
   ]
  },
  {
   "cell_type": "code",
   "execution_count": null,
   "metadata": {},
   "outputs": [],
   "source": [
    "from GenMusic.models import train\n",
    "\n",
    "model = train(train_iter, mlp, criterion,\n",
    "              optimizer, epoch, device, autoPrint=0)"
   ]
  },
  {
   "cell_type": "markdown",
   "metadata": {},
   "source": [
    "# Generate beat"
   ]
  },
  {
   "cell_type": "code",
   "execution_count": 1,
   "metadata": {},
   "outputs": [],
   "source": [
    "import torch\n",
    "from GenMusic.bin.rewarders import nngrader_rewarder, get_nngrader_rewarder\n",
    "from GenMusic import ga_generator\n",
    "\n",
    "rwd = get_nngrader_rewarder(\"runs/1708865989.470388/best.pt\")\n",
    "rwd.set_tgt(torch.tensor([0.5, 0.5]))\n",
    "ga = ga_generator(rwd)"
   ]
  },
  {
   "cell_type": "code",
   "execution_count": 2,
   "metadata": {},
   "outputs": [],
   "source": [
    "from configs import *\n",
    "mxomin = [1]\n",
    "dim = INPUT_NN_LEN\n",
    "varTypes = [0]*INPUT_NN_LEN\n",
    "lb = [0.3]*INPUT_NN_LEN\n",
    "ub = [0.9]*INPUT_NN_LEN\n",
    "lbin = [1]*INPUT_NN_LEN\n",
    "ubin = [1]*INPUT_NN_LEN\n",
    "ga.set_problem_params(maxormins=mxomin, Dim=dim,\n",
    "                      varTypes=varTypes, lb=lb, ub=ub, lbin=lbin, ubin=lbin)\n",
    "ga.set_problem_aimFunc(ga.aimFun_1)\n",
    "ga.set_population_params()\n",
    "ga.set_algorithm_params()"
   ]
  },
  {
   "cell_type": "code",
   "execution_count": 3,
   "metadata": {},
   "outputs": [],
   "source": [
    "ga.generate_ori()"
   ]
  },
  {
   "cell_type": "code",
   "execution_count": 4,
   "metadata": {},
   "outputs": [
    {
     "name": "stdout",
     "output_type": "stream",
     "text": [
      "tensor([0.6442, 0.4159, 0.7559, 0.8330, 0.8718, 0.5822, 0.6580, 0.5149, 0.3594,\n",
      "        0.5778, 0.7941, 0.8634, 0.5797, 0.6006, 0.4633, 0.3060, 0.4502, 0.7285,\n",
      "        0.7136, 0.4186, 0.6839, 0.8184, 0.8537, 0.5099, 0.3503, 0.7018, 0.5898,\n",
      "        0.8379, 0.6241, 0.7451, 0.6107, 0.8377, 0.5890, 0.7408, 0.7844, 0.7361,\n",
      "        0.8662, 0.5173, 0.5500, 0.6087, 0.8681, 0.4814, 0.8755, 0.5047, 0.6441,\n",
      "        0.5195, 0.5944, 0.4067, 0.4248, 0.8595, 0.6523, 0.8596, 0.7491, 0.4129,\n",
      "        0.7651, 0.4880, 0.5711, 0.5494, 0.7821, 0.3679, 0.7126, 0.4755, 0.6046,\n",
      "        0.6944, 0.6085, 0.8312, 0.7805, 0.6609, 0.5054, 0.8087, 0.6968, 0.7450,\n",
      "        0.4895, 0.5293, 0.7676])\n"
     ]
    }
   ],
   "source": [
    "print(ga.best_tensor)"
   ]
  },
  {
   "cell_type": "markdown",
   "metadata": {},
   "source": [
    "# midi GM"
   ]
  },
  {
   "cell_type": "code",
   "execution_count": 1,
   "metadata": {},
   "outputs": [],
   "source": [
    "import torch\n",
    "from GenMusic.bin.rewarders import nngrader_rewarder, get_nngrader_rewarder, sad_test_rewarder\n",
    "from GenMusic import ga_generator\n",
    "\n",
    "rwd = sad_test_rewarder()\n",
    "ga = ga_generator(rwd)"
   ]
  },
  {
   "cell_type": "code",
   "execution_count": 5,
   "metadata": {},
   "outputs": [],
   "source": [
    "from configs import *\n",
    "mxomin = [-1]\n",
    "dim = INPUT_NN_LEN\n",
    "varTypes = [1]*INPUT_NN_LEN\n",
    "lb = [0]*INPUT_NN_LEN\n",
    "ub = [11]*(10)\n",
    "ub += [3]*(10)\n",
    "lbin = [1]*INPUT_NN_LEN\n",
    "ubin = [1]*INPUT_NN_LEN\n",
    "ga.set_problem_params(maxormins=mxomin, Dim=dim,\n",
    "                      varTypes=varTypes, lb=lb, ub=ub, lbin=lbin, ubin=lbin)\n",
    "ga.set_problem_aimFunc(ga.aimFun_2)\n",
    "ga.set_population_params()\n",
    "ga.set_algorithm_params()\n",
    "\n",
    "ga.generate_ori()"
   ]
  },
  {
   "cell_type": "code",
   "execution_count": 6,
   "metadata": {},
   "outputs": [
    {
     "name": "stdout",
     "output_type": "stream",
     "text": [
      "tensor([0., 0., 4., 9., 9., 4., 4., 4., 4., 2., 1., 0., 1., 1., 1., 0., 1., 0.,\n",
      "        0., 0.])\n"
     ]
    }
   ],
   "source": [
    "print(ga.best_tensor)"
   ]
  },
  {
   "cell_type": "code",
   "execution_count": 26,
   "metadata": {},
   "outputs": [
    {
     "name": "stdout",
     "output_type": "stream",
     "text": [
      "MetaMessage('set_tempo', tempo=500000, time=0)\n",
      "MetaMessage('end_of_track', time=0)\n",
      "MetaMessage('track_name', name='Happy Melody', time=0)\n",
      "program_change channel=0 program=0 time=0\n",
      "note_on channel=0 note=9 velocity=100 time=0\n",
      "note_on channel=0 note=5 velocity=100 time=960\n",
      "note_off channel=0 note=9 velocity=100 time=480\n",
      "note_on channel=0 note=9 velocity=100 time=0\n",
      "note_off channel=0 note=9 velocity=100 time=960\n",
      "note_on channel=0 note=9 velocity=100 time=0\n",
      "note_off channel=0 note=5 velocity=100 time=480\n",
      "note_off channel=0 note=9 velocity=100 time=1440\n",
      "note_on channel=0 note=9 velocity=100 time=0\n",
      "note_on channel=0 note=2 velocity=100 time=3840\n",
      "note_on channel=0 note=5 velocity=100 time=480\n",
      "note_off channel=0 note=2 velocity=100 time=1440\n",
      "note_off channel=0 note=5 velocity=100 time=480\n",
      "note_on channel=0 note=5 velocity=100 time=0\n",
      "note_off channel=0 note=5 velocity=100 time=5760\n",
      "note_off channel=0 note=9 velocity=100 time=3360\n",
      "MetaMessage('end_of_track', time=0)\n",
      "8\n",
      "8\n"
     ]
    }
   ],
   "source": [
    "import mido\n",
    "\n",
    "# 加载 MIDI 文件\n",
    "mid = mido.MidiFile('/home/csy/Desktop/GenMusic/happy_melody.mid')\n",
    "c1=0\n",
    "c2=0\n",
    "# 遍历所有的轨道和消息\n",
    "for track in mid.tracks:\n",
    "    for msg in track:\n",
    "        if msg.type== 'note_on':\n",
    "            c1+=1\n",
    "        if msg.type== 'note_off':\n",
    "            c2+=1       \n",
    "        print(msg)\n",
    "print(c1)\n",
    "print(c2)\n"
   ]
  },
  {
   "cell_type": "code",
   "execution_count": 17,
   "metadata": {},
   "outputs": [],
   "source": [
    "import random\n",
    "from midiutil import MIDIFile\n",
    "\n",
    "# 定义可能的节奏和音高范围\n",
    "rhythms = ['全音符', '二分音符', '四分音符', '八分音符']\n",
    "pitches = ['C3', 'C#3', 'D3', 'D#3', 'E3',\n",
    "           'F3', 'F#3', 'G3', 'G#3', 'A3', 'A#3', 'B3']\n",
    "\n",
    "# 将音符名称转换为MIDI音符编号\n",
    "\n",
    "\n",
    "def note_name_to_midi(note_name):\n",
    "    midi_notes = {\n",
    "        'C3': 0, 'C#3': 1, 'D3': 2, 'D#3': 3, 'E3': 4,\n",
    "        'F3': 5, 'F#3': 6, 'G3': 7, 'G#3': 8, 'A3': 9, 'A#3': 10, 'B3': 11\n",
    "    }\n",
    "    return midi_notes[note_name]\n",
    "\n",
    "# 将节奏转换为MIDI持续时间（以四分音符为单位）\n",
    "\n",
    "\n",
    "def rhythm_to_midi(rhythm):\n",
    "    if rhythm == '全音符':\n",
    "        return 4\n",
    "    elif rhythm == '二分音符':\n",
    "        return 2\n",
    "    elif rhythm == '四分音符':\n",
    "        return 1\n",
    "    elif rhythm == '八分音符':\n",
    "        return 0.5\n",
    "    else:\n",
    "        return 1\n",
    "\n",
    "# 评分函数，评估乐谱的快乐程度\n",
    "\n",
    "# 创建MIDI文件\n",
    "\n",
    "\n",
    "def create_midi(melody_rhythm, melody_pitches):\n",
    "    midi_file = MIDIFile(1)  # 创建一个包含1个轨道的MIDI文件\n",
    "    track = 0\n",
    "    time = 0\n",
    "\n",
    "    # 设置钢琴音色\n",
    "    midi_file.addProgramChange(track, time, 0, 0)  # 音色编号0对应钢琴\n",
    "\n",
    "    midi_file.addTrackName(track, time, \"Happy Melody\")\n",
    "    midi_file.addTempo(track, time, 120)  # 设置BPM为120\n",
    "\n",
    "    for note_name, rhythm in zip(melody_pitches, melody_rhythm):\n",
    "        midi_note = note_name_to_midi(note_name)\n",
    "        duration = rhythm_to_midi(rhythm)\n",
    "        midi_file.addNote(track, 0, midi_note, time, int(duration * 4), 100)\n",
    "        time += duration\n",
    "\n",
    "    with open(\"happy_melody.mid\", 'wb') as output_file:\n",
    "        midi_file.writeFile(output_file)\n",
    "\n",
    "\n",
    "create_midi(['八分音符','二分音符'],['C3','C#3'])"
   ]
  },
  {
   "cell_type": "code",
   "execution_count": 19,
   "metadata": {},
   "outputs": [],
   "source": [
    "from midiutil import MIDIFile\n",
    "\n",
    "# 创建一个包含1个轨道的MIDI文件\n",
    "midi_file = MIDIFile(1)\n",
    "\n",
    "track = 0   # 轨道编号\n",
    "time = 0    # 开始时间\n",
    "\n",
    "# 设置轨道名和节拍\n",
    "midi_file.addTrackName(track, time, \"C Major Scale\")\n",
    "midi_file.addTempo(track, time, 120)\n",
    "\n",
    "# 定义音符（C4-E4-G4-C5）和持续时间（都是四分音符）\n",
    "notes = [60, 64, 67, 72]  # MIDI音符编号\n",
    "durations = [1, 1, 1, 1]  # 持续时间，以四分音符为单位\n",
    "\n",
    "# 添加音符到轨道\n",
    "for note, duration in zip(notes, durations):\n",
    "    midi_file.addNote(track, 0, note, time, duration, 100)\n",
    "    time += duration\n",
    "\n",
    "# 写入文件\n",
    "with open(\"CMajorScale.mid\", 'wb') as output_file:\n",
    "    midi_file.writeFile(output_file)\n"
   ]
  },
  {
   "cell_type": "code",
   "execution_count": 27,
   "metadata": {},
   "outputs": [
    {
     "name": "stdout",
     "output_type": "stream",
     "text": [
      "Notes: ['G34', 'G#34', 'A#34', 'A#34', 'A#34', 'A#34', 'A#34', 'A#34', 'A#34', 'C35', 'G34', 'G#34', 'A#34', 'A#34', 'A#34', 'G#34', 'G#34', 'G#34', 'G#34', 'G#34', 'G#34', 'G#34', 'G34', 'F34', 'G34', 'G#34']\n",
      "Rhythm: ['未知音符', '未知音符', '未知音符', '未知音符', '未知音符', '未知音符', '未知音符', '未知音符', '未知音符', '未知音符', '未知音符', '未知音符', '未知音符', '未知音符', '未知音符', '未知音符', '未知音符', '未知音符', '未知音符', '未知音符', '未知音符', '未知音符', '未知音符', '未知音符', '未知音符', '未知音符']\n"
     ]
    }
   ],
   "source": [
    "import mido\n",
    "\n",
    "# MIDI音符编号到音名的映射\n",
    "note_names = {\n",
    "    0: 'C3', 1: 'C#3', 2: 'D3', 3: 'D#3', 4: 'E3',\n",
    "    5: 'F3', 6: 'F#3', 7: 'G3', 8: 'G#3', 9: 'A3', 10: 'A#3', 11: 'B3'\n",
    "}\n",
    "\n",
    "# 将MIDI音符编号转换为音名\n",
    "def midi_to_note_name(midi_note):\n",
    "    octave = midi_note // 12 - 1\n",
    "    note = midi_note % 12\n",
    "    return note_names[note] + str(octave)\n",
    "\n",
    "# 将MIDI持续时间（以四分音符为单位）转换为节奏\n",
    "def midi_to_rhythm(midi_duration, ticks_per_beat):\n",
    "    if midi_duration == ticks_per_beat * 4:\n",
    "        return '全音符'\n",
    "    elif midi_duration == ticks_per_beat * 2:\n",
    "        return '二分音符'\n",
    "    elif midi_duration == ticks_per_beat:\n",
    "        return '四分音符'\n",
    "    elif midi_duration == ticks_per_beat / 2:\n",
    "        return '八分音符'\n",
    "    else:\n",
    "        return '未知音符'\n",
    "\n",
    "def midi_to_notes_rhythm(midi_file_path):\n",
    "    mid = mido.MidiFile(midi_file_path)\n",
    "    ticks_per_beat = mid.ticks_per_beat\n",
    "\n",
    "    notes = []\n",
    "    rhythm = []\n",
    "\n",
    "    for track in mid.tracks:\n",
    "        time = 0\n",
    "        for msg in track:\n",
    "            if msg.type == 'note_on' and msg.velocity > 0:\n",
    "                note_name = midi_to_note_name(msg.note)\n",
    "                notes.append(note_name)\n",
    "            elif msg.type == 'note_off' or (msg.type == 'note_on' and msg.velocity == 0):\n",
    "                rhythm_name = midi_to_rhythm(msg.time, ticks_per_beat)\n",
    "                rhythm.append(rhythm_name)\n",
    "                time = 0\n",
    "            else:\n",
    "                time += msg.time\n",
    "\n",
    "    return notes, rhythm\n",
    "\n",
    "notes, rhythm = midi_to_notes_rhythm('/home/csy/Desktop/GenMusic/Data/mini_midi/happy/happy1.mid')\n",
    "print('Notes:', notes)\n",
    "print('Rhythm:', rhythm)\n"
   ]
  }
 ],
 "metadata": {
  "kernelspec": {
   "display_name": "space_1",
   "language": "python",
   "name": "python3"
  },
  "language_info": {
   "codemirror_mode": {
    "name": "ipython",
    "version": 3
   },
   "file_extension": ".py",
   "mimetype": "text/x-python",
   "name": "python",
   "nbconvert_exporter": "python",
   "pygments_lexer": "ipython3",
   "version": "3.8.15"
  }
 },
 "nbformat": 4,
 "nbformat_minor": 2
}
