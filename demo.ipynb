{
 "cells": [
  {
   "cell_type": "markdown",
   "metadata": {},
   "source": [
    "# Train the Grader"
   ]
  },
  {
   "cell_type": "code",
   "execution_count": 1,
   "metadata": {},
   "outputs": [],
   "source": [
    "import torch.utils.data as Data\n",
    "import torch\n",
    "\n",
    "data = torch.load(\n",
    "    \"Data/Beat_dataset/Beat_tensor_dataset/beat_no_head_rsz_75.pt\")\n",
    "x = data['x']\n",
    "y = data['y']\n",
    "batch_size = 64\n",
    "dataset = Data.TensorDataset(x, y)\n",
    "train_iter = Data.DataLoader(dataset, batch_size, shuffle=True, num_workers=0)"
   ]
  },
  {
   "cell_type": "code",
   "execution_count": 2,
   "metadata": {},
   "outputs": [],
   "source": [
    "from GenMusic.models.mlp import MLP\n",
    "\n",
    "mlp = MLP(75, [150, 50, 10], 2)"
   ]
  },
  {
   "cell_type": "code",
   "execution_count": 3,
   "metadata": {},
   "outputs": [],
   "source": [
    "from torch import nn\n",
    "\n",
    "lr = 1e-3\n",
    "epoch = 1000\n",
    "criterion = nn.MSELoss()\n",
    "optimizer = torch.optim.Adam(mlp.parameters(), lr=lr)\n",
    "device = torch.device(\"cuda\")\n",
    "torch.cuda.empty_cache()  # 释放显存"
   ]
  },
  {
   "cell_type": "code",
   "execution_count": null,
   "metadata": {},
   "outputs": [],
   "source": [
    "from GenMusic.models import train\n",
    "\n",
    "model = train(train_iter, mlp, criterion,\n",
    "              optimizer, epoch, device, autoPrint=0)"
   ]
  },
  {
   "cell_type": "markdown",
   "metadata": {},
   "source": [
    "# Generate beat"
   ]
  },
  {
   "cell_type": "code",
   "execution_count": 1,
   "metadata": {},
   "outputs": [],
   "source": [
    "import torch\n",
    "from GenMusic.bin.rewarders import nngrader_rewarder, get_nngrader_rewarder\n",
    "from GenMusic import ga_generator\n",
    "\n",
    "rwd = get_nngrader_rewarder(\"runs/1708865989.470388/best.pt\")\n",
    "rwd.set_tgt(torch.tensor([0.5, 0.5]))\n",
    "ga = ga_generator(rwd)"
   ]
  },
  {
   "cell_type": "code",
   "execution_count": 2,
   "metadata": {},
   "outputs": [],
   "source": [
    "mxomin = [1]\n",
    "dim = 48\n",
    "varTypes = [0]*48\n",
    "lb = [0.3]*48\n",
    "ub = [0.9]*48\n",
    "lbin = [1]*48\n",
    "ubin = [1]*48\n",
    "ga.set_problem_params(maxormins=mxomin, Dim=dim,\n",
    "                      varTypes=varTypes, lb=lb, ub=ub, lbin=lbin, ubin=lbin)\n",
    "ga.__set_problem_aimFunc(ga.__tensor_with_grad)\n",
    "ga.set_population_params()\n",
    "ga.set_algorithm_params()"
   ]
  },
  {
   "cell_type": "code",
   "execution_count": 3,
   "metadata": {},
   "outputs": [],
   "source": [
    "ga.generate_ori()\n",
    "print(ga.best_tensor)"
   ]
  },
  {
   "cell_type": "markdown",
   "metadata": {},
   "source": [
    "# midi GM"
   ]
  },
  {
   "cell_type": "code",
   "execution_count": 5,
   "metadata": {},
   "outputs": [],
   "source": [
    "import torch\n",
    "from GenMusic.bin.rewarders import nngrader_rewarder, get_nngrader_rewarder, sad_simple_rewarder,demo_dtw_midi_rewarder\n",
    "from GenMusic import ga_generator\n",
    "\n",
    "rwd = demo_dtw_midi_rewarder(\"Data/mini_midi/npy_file/happy\",\"Data/mini_midi/npy_file/sad\",\"Data/covInv.npy\")\n",
    "\n",
    "ga = ga_generator(rwd)\n"
   ]
  },
  {
   "cell_type": "code",
   "execution_count": 6,
   "metadata": {},
   "outputs": [],
   "source": [
    "l = 9\n",
    "mxomin = [1]\n",
    "dim = 4*l\n",
    "varTypes = [0]*dim\n",
    "lb = [0]*dim\n",
    "ub = [127]*dim\n",
    "ub[l:2*l] = [250]*l\n",
    "lbin = [1]*dim\n",
    "ubin = [1]*dim\n",
    "ga.set_tgt(\"sad\")\n",
    "ga.set_problem_params(maxormins=mxomin, Dim=dim,\n",
    "                      varTypes=varTypes, lb=lb, ub=ub, lbin=lbin, ubin=lbin)\n",
    "ga.set_population_params()\n",
    "ga.set_algorithm_params()\n",
    "\n",
    "ga.generate_ori()"
   ]
  },
  {
   "cell_type": "code",
   "execution_count": 4,
   "metadata": {},
   "outputs": [],
   "source": [
    "from tools.feature2midi import get_midifile\n",
    "get_midifile((torch.reshape(ga.best_tensor,(4,-1)).T).numpy())"
   ]
  }
 ],
 "metadata": {
  "kernelspec": {
   "display_name": "space_1",
   "language": "python",
   "name": "python3"
  },
  "language_info": {
   "codemirror_mode": {
    "name": "ipython",
    "version": 3
   },
   "file_extension": ".py",
   "mimetype": "text/x-python",
   "name": "python",
   "nbconvert_exporter": "python",
   "pygments_lexer": "ipython3",
   "version": "3.8.15"
  }
 },
 "nbformat": 4,
 "nbformat_minor": 2
}
